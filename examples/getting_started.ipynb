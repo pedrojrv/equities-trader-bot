{
 "cells": [
  {
   "cell_type": "markdown",
   "metadata": {},
   "source": [
    "# Getting Started with Polygon API"
   ]
  },
  {
   "cell_type": "code",
   "execution_count": 116,
   "metadata": {},
   "outputs": [],
   "source": [
    "from polygon import RESTClient\n",
    "from polygon.rest.models import Market\n",
    "import pandas as pd\n",
    "import numpy as np\n",
    "\n",
    "pd.options.mode.chained_assignment = None  # default='warn'"
   ]
  },
  {
   "cell_type": "code",
   "execution_count": 2,
   "metadata": {},
   "outputs": [],
   "source": [
    "client = RESTClient(\"45lJarByEgEjiabROm6ZTbphYP9jTGqa\")"
   ]
  },
  {
   "cell_type": "code",
   "execution_count": 27,
   "metadata": {},
   "outputs": [],
   "source": [
    "upcoming_holidays = client.get_market_holidays()"
   ]
  },
  {
   "cell_type": "code",
   "execution_count": null,
   "metadata": {},
   "outputs": [],
   "source": [
    "# Get all available exchanges (no need to refresh often - once per day or more)\n",
    "all_exchanges = client.get_exchanges()\n",
    "stock_exchanges = [exchange for exchange in all_exchanges if exchange.asset_class == \"stocks\"]\n",
    "stock_exchanges_dict = {exchange.mic: exchange.name for exchange in stock_exchanges}"
   ]
  },
  {
   "cell_type": "code",
   "execution_count": 51,
   "metadata": {},
   "outputs": [],
   "source": [
    "# get all stocks for which there is information in Polygon (no need to refresh ofteh but need a full copy to refresh once per day). \n",
    "all_polygon_tickers = client.list_tickers(market=Market.STOCKS, type='CS', limit=100000)\n",
    "\n",
    "valid_tickers = []\n",
    "for ticker in all_polygon_tickers:\n",
    "    valid_tickers.append(ticker)\n",
    "    \n",
    "valid_tickers = [ticker for ticker in valid_tickers if ticker.locale == \"us\"]"
   ]
  },
  {
   "cell_type": "code",
   "execution_count": 65,
   "metadata": {},
   "outputs": [],
   "source": [
    "# All polygon tickers will form our base database, we will use its info to call other APIs for more info\n",
    "stock_info = pd.DataFrame({\n",
    "    'ticker': [ticker.ticker for ticker in valid_tickers],\n",
    "    'name': [ticker.name for ticker in valid_tickers],\n",
    "    'exchange': [ticker.primary_exchange for ticker in valid_tickers],\n",
    "    'locale': [ticker.locale for ticker in valid_tickers],\n",
    "})\n",
    "\n",
    "stock_info['exchange_name'] = stock_info.exchange.apply(lambda x: stock_exchanges_dict[x])"
   ]
  },
  {
   "cell_type": "code",
   "execution_count": 133,
   "metadata": {},
   "outputs": [],
   "source": [
    "stock_info = stock_info.set_index(\"ticker\")"
   ]
  },
  {
   "cell_type": "code",
   "execution_count": 134,
   "metadata": {},
   "outputs": [],
   "source": [
    "stock_info.to_csv(\"../data/all_stocks.csv\")"
   ]
  },
  {
   "cell_type": "code",
   "execution_count": 131,
   "metadata": {},
   "outputs": [
    {
     "data": {
      "text/html": [
       "<div>\n",
       "<style scoped>\n",
       "    .dataframe tbody tr th:only-of-type {\n",
       "        vertical-align: middle;\n",
       "    }\n",
       "\n",
       "    .dataframe tbody tr th {\n",
       "        vertical-align: top;\n",
       "    }\n",
       "\n",
       "    .dataframe thead th {\n",
       "        text-align: right;\n",
       "    }\n",
       "</style>\n",
       "<table border=\"1\" class=\"dataframe\">\n",
       "  <thead>\n",
       "    <tr style=\"text-align: right;\">\n",
       "      <th></th>\n",
       "      <th>ticker</th>\n",
       "      <th>name</th>\n",
       "      <th>exchange</th>\n",
       "      <th>locale</th>\n",
       "      <th>exchange_name</th>\n",
       "    </tr>\n",
       "  </thead>\n",
       "  <tbody>\n",
       "    <tr>\n",
       "      <th>0</th>\n",
       "      <td>A</td>\n",
       "      <td>Agilent Technologies Inc.</td>\n",
       "      <td>XNYS</td>\n",
       "      <td>us</td>\n",
       "      <td>New York Stock Exchange</td>\n",
       "    </tr>\n",
       "    <tr>\n",
       "      <th>1</th>\n",
       "      <td>AA</td>\n",
       "      <td>Alcoa Corporation</td>\n",
       "      <td>XNYS</td>\n",
       "      <td>us</td>\n",
       "      <td>New York Stock Exchange</td>\n",
       "    </tr>\n",
       "    <tr>\n",
       "      <th>2</th>\n",
       "      <td>AAC</td>\n",
       "      <td>Ares Acquisition Corporation</td>\n",
       "      <td>XNYS</td>\n",
       "      <td>us</td>\n",
       "      <td>New York Stock Exchange</td>\n",
       "    </tr>\n",
       "    <tr>\n",
       "      <th>3</th>\n",
       "      <td>AACI</td>\n",
       "      <td>Armada Acquisition Corp. I Common Stock</td>\n",
       "      <td>XNAS</td>\n",
       "      <td>us</td>\n",
       "      <td>Nasdaq</td>\n",
       "    </tr>\n",
       "    <tr>\n",
       "      <th>4</th>\n",
       "      <td>AADI</td>\n",
       "      <td>Aadi Bioscience, Inc. Common Stock</td>\n",
       "      <td>XNAS</td>\n",
       "      <td>us</td>\n",
       "      <td>Nasdaq</td>\n",
       "    </tr>\n",
       "  </tbody>\n",
       "</table>\n",
       "</div>"
      ],
      "text/plain": [
       "  ticker                                     name exchange locale  \\\n",
       "0      A                Agilent Technologies Inc.     XNYS     us   \n",
       "1     AA                        Alcoa Corporation     XNYS     us   \n",
       "2    AAC             Ares Acquisition Corporation     XNYS     us   \n",
       "3   AACI  Armada Acquisition Corp. I Common Stock     XNAS     us   \n",
       "4   AADI       Aadi Bioscience, Inc. Common Stock     XNAS     us   \n",
       "\n",
       "             exchange_name  \n",
       "0  New York Stock Exchange  \n",
       "1  New York Stock Exchange  \n",
       "2  New York Stock Exchange  \n",
       "3                   Nasdaq  \n",
       "4                   Nasdaq  "
      ]
     },
     "execution_count": 131,
     "metadata": {},
     "output_type": "execute_result"
    }
   ],
   "source": [
    "stock_info.head()"
   ]
  },
  {
   "cell_type": "markdown",
   "metadata": {},
   "source": [
    "### Experimental"
   ]
  },
  {
   "cell_type": "code",
   "execution_count": 128,
   "metadata": {},
   "outputs": [],
   "source": [
    "daily_example = client.get_grouped_daily_aggs(\"2022-05-23\")"
   ]
  },
  {
   "cell_type": "code",
   "execution_count": 129,
   "metadata": {},
   "outputs": [
    {
     "data": {
      "text/plain": [
       "11128"
      ]
     },
     "execution_count": 129,
     "metadata": {},
     "output_type": "execute_result"
    }
   ],
   "source": [
    "len(daily_example)"
   ]
  },
  {
   "cell_type": "code",
   "execution_count": 130,
   "metadata": {},
   "outputs": [
    {
     "data": {
      "text/plain": [
       "[GroupedDailyAgg(ticker='AMD', open=91.66, high=95.19, low=90.92, close=95.07, volume=128773040.0, vwap=93.392, timestamp=1653336000000, transactions=662108),\n",
       " GroupedDailyAgg(ticker='MSFT', open=255.49, high=261.5, low=253.43, close=260.65, volume=33175379.0, vwap=258.9217, timestamp=1653336000000, transactions=386147),\n",
       " GroupedDailyAgg(ticker='AAPL', open=137.79, high=143.26, low=137.65, close=143.11, volume=117726265.0, vwap=141.4344, timestamp=1653336000000, transactions=851032),\n",
       " GroupedDailyAgg(ticker='NVDA', open=162.74, high=169.15, low=161.7901, close=168.98, volume=63988869.0, vwap=166.4595, timestamp=1653336000000, transactions=546192),\n",
       " GroupedDailyAgg(ticker='GOOGL', open=2191.75, high=2242.95, low=2174.82, close=2229.76, volume=1859247.0, vwap=2214.0921, timestamp=1653336000000, transactions=121005)]"
      ]
     },
     "execution_count": 130,
     "metadata": {},
     "output_type": "execute_result"
    }
   ],
   "source": [
    "[example for example in daily_example if example.ticker in [\"AMD\", \"AAPL\", \"NVDA\", \"MSFT\", \"GOOGL\"]]"
   ]
  },
  {
   "cell_type": "markdown",
   "metadata": {},
   "source": [
    "### Get Ticker Price Dataset\n",
    "\n",
    "Gets the `open`, `close`, the all time `high` and `low`, total number of `transactions`, the UNIX `timestamp` for the start of the aggregate window, the total trading `volume`, and the volume weighted average price `vwap`. The base aggregates from polygon are the `minute` and `hour`."
   ]
  },
  {
   "cell_type": "code",
   "execution_count": 137,
   "metadata": {},
   "outputs": [],
   "source": [
    "aggs = client.get_aggs(\"NVDA\", 1, \"day\", \"2022-05-16\", \"2022-05-21\", limit=4999)"
   ]
  },
  {
   "cell_type": "code",
   "execution_count": 153,
   "metadata": {},
   "outputs": [],
   "source": [
    "stock_price_history = pd.DataFrame({\n",
    "    'open': [agg.open for agg in aggs],\n",
    "    'high': [agg.high for agg in aggs],\n",
    "    'low': [agg.low for agg in aggs],\n",
    "    'close': [agg.close for agg in aggs],\n",
    "    'volume': [agg.volume for agg in aggs],\n",
    "    'vwap': [agg.vwap for agg in aggs],\n",
    "    'transactions': [agg.transactions for agg in aggs],\n",
    "}, index=pd.to_datetime([agg.timestamp for agg in aggs], unit='ms'))"
   ]
  },
  {
   "cell_type": "code",
   "execution_count": 170,
   "metadata": {},
   "outputs": [],
   "source": [
    "ticker_detail_keys = ['list_date', 'market_cap', 'share_class_shares_outstanding', 'sic_code', 'sic_description', 'total_employees', 'weighted_shares_outstanding']\n",
    "\n",
    "for col in ticker_detail_keys:\n",
    "    stock_price_history[col] = np.nan"
   ]
  },
  {
   "cell_type": "code",
   "execution_count": 176,
   "metadata": {},
   "outputs": [],
   "source": [
    "ticker_detail_keys = {\n",
    "    'list_date', \n",
    "    'market_cap', \n",
    "    'share_class_shares_outstanding', \n",
    "    'sic_code', \n",
    "    'sic_description', \n",
    "    'total_employees', \n",
    "    'weighted_shares_outstanding'\n",
    "}\n",
    "\n",
    "\n",
    "for date in stock_price_history.index:\n",
    "    datetime = date.strftime('%Y-%m-%d')\n",
    "    ticker_details = client.get_ticker_details(\"NVDA\", date=datetime)\n",
    "    for col in ticker_detail_keys:\n",
    "        stock_price_history.at[date, col] = getattr(ticker_details, col)"
   ]
  },
  {
   "cell_type": "code",
   "execution_count": 221,
   "metadata": {},
   "outputs": [
    {
     "data": {
      "text/html": [
       "<div>\n",
       "<style scoped>\n",
       "    .dataframe tbody tr th:only-of-type {\n",
       "        vertical-align: middle;\n",
       "    }\n",
       "\n",
       "    .dataframe tbody tr th {\n",
       "        vertical-align: top;\n",
       "    }\n",
       "\n",
       "    .dataframe thead th {\n",
       "        text-align: right;\n",
       "    }\n",
       "</style>\n",
       "<table border=\"1\" class=\"dataframe\">\n",
       "  <thead>\n",
       "    <tr style=\"text-align: right;\">\n",
       "      <th></th>\n",
       "      <th>open</th>\n",
       "      <th>high</th>\n",
       "      <th>low</th>\n",
       "      <th>close</th>\n",
       "      <th>volume</th>\n",
       "      <th>vwap</th>\n",
       "      <th>transactions</th>\n",
       "      <th>list_date</th>\n",
       "      <th>market_cap</th>\n",
       "      <th>share_class_shares_outstanding</th>\n",
       "      <th>sic_code</th>\n",
       "      <th>sic_description</th>\n",
       "      <th>total_employees</th>\n",
       "      <th>weighted_shares_outstanding</th>\n",
       "    </tr>\n",
       "  </thead>\n",
       "  <tbody>\n",
       "    <tr>\n",
       "      <th>2022-05-16 04:00:00</th>\n",
       "      <td>175.09</td>\n",
       "      <td>177.88</td>\n",
       "      <td>171.0600</td>\n",
       "      <td>172.64</td>\n",
       "      <td>52144598.0</td>\n",
       "      <td>174.4490</td>\n",
       "      <td>483480</td>\n",
       "      <td>1999-01-22</td>\n",
       "      <td>4.044985e+11</td>\n",
       "      <td>2.504010e+09</td>\n",
       "      <td>3674</td>\n",
       "      <td>SEMICONDUCTORS &amp; RELATED DEVICES</td>\n",
       "      <td>22473.0</td>\n",
       "      <td>2.504014e+09</td>\n",
       "    </tr>\n",
       "    <tr>\n",
       "      <th>2022-05-17 04:00:00</th>\n",
       "      <td>180.74</td>\n",
       "      <td>183.71</td>\n",
       "      <td>176.3400</td>\n",
       "      <td>181.77</td>\n",
       "      <td>58582971.0</td>\n",
       "      <td>180.0808</td>\n",
       "      <td>563506</td>\n",
       "      <td>1999-01-22</td>\n",
       "      <td>4.044985e+11</td>\n",
       "      <td>2.504010e+09</td>\n",
       "      <td>3674</td>\n",
       "      <td>SEMICONDUCTORS &amp; RELATED DEVICES</td>\n",
       "      <td>22473.0</td>\n",
       "      <td>2.504014e+09</td>\n",
       "    </tr>\n",
       "    <tr>\n",
       "      <th>2022-05-18 04:00:00</th>\n",
       "      <td>177.05</td>\n",
       "      <td>181.18</td>\n",
       "      <td>168.6400</td>\n",
       "      <td>169.38</td>\n",
       "      <td>54516106.0</td>\n",
       "      <td>173.6590</td>\n",
       "      <td>536759</td>\n",
       "      <td>1999-01-22</td>\n",
       "      <td>4.044985e+11</td>\n",
       "      <td>2.504010e+09</td>\n",
       "      <td>3674</td>\n",
       "      <td>SEMICONDUCTORS &amp; RELATED DEVICES</td>\n",
       "      <td>22473.0</td>\n",
       "      <td>2.504014e+09</td>\n",
       "    </tr>\n",
       "    <tr>\n",
       "      <th>2022-05-19 04:00:00</th>\n",
       "      <td>169.37</td>\n",
       "      <td>176.87</td>\n",
       "      <td>167.3405</td>\n",
       "      <td>171.24</td>\n",
       "      <td>62130959.0</td>\n",
       "      <td>172.7810</td>\n",
       "      <td>549159</td>\n",
       "      <td>1999-01-22</td>\n",
       "      <td>4.044985e+11</td>\n",
       "      <td>2.504010e+09</td>\n",
       "      <td>3674</td>\n",
       "      <td>SEMICONDUCTORS &amp; RELATED DEVICES</td>\n",
       "      <td>22473.0</td>\n",
       "      <td>2.504014e+09</td>\n",
       "    </tr>\n",
       "    <tr>\n",
       "      <th>2022-05-20 04:00:00</th>\n",
       "      <td>173.32</td>\n",
       "      <td>174.10</td>\n",
       "      <td>157.5500</td>\n",
       "      <td>166.94</td>\n",
       "      <td>73910526.0</td>\n",
       "      <td>163.8915</td>\n",
       "      <td>722854</td>\n",
       "      <td>1999-01-22</td>\n",
       "      <td>4.044985e+11</td>\n",
       "      <td>2.504010e+09</td>\n",
       "      <td>3674</td>\n",
       "      <td>SEMICONDUCTORS &amp; RELATED DEVICES</td>\n",
       "      <td>22473.0</td>\n",
       "      <td>2.504014e+09</td>\n",
       "    </tr>\n",
       "  </tbody>\n",
       "</table>\n",
       "</div>"
      ],
      "text/plain": [
       "                       open    high       low   close      volume      vwap  \\\n",
       "2022-05-16 04:00:00  175.09  177.88  171.0600  172.64  52144598.0  174.4490   \n",
       "2022-05-17 04:00:00  180.74  183.71  176.3400  181.77  58582971.0  180.0808   \n",
       "2022-05-18 04:00:00  177.05  181.18  168.6400  169.38  54516106.0  173.6590   \n",
       "2022-05-19 04:00:00  169.37  176.87  167.3405  171.24  62130959.0  172.7810   \n",
       "2022-05-20 04:00:00  173.32  174.10  157.5500  166.94  73910526.0  163.8915   \n",
       "\n",
       "                     transactions   list_date    market_cap  \\\n",
       "2022-05-16 04:00:00        483480  1999-01-22  4.044985e+11   \n",
       "2022-05-17 04:00:00        563506  1999-01-22  4.044985e+11   \n",
       "2022-05-18 04:00:00        536759  1999-01-22  4.044985e+11   \n",
       "2022-05-19 04:00:00        549159  1999-01-22  4.044985e+11   \n",
       "2022-05-20 04:00:00        722854  1999-01-22  4.044985e+11   \n",
       "\n",
       "                     share_class_shares_outstanding sic_code  \\\n",
       "2022-05-16 04:00:00                    2.504010e+09     3674   \n",
       "2022-05-17 04:00:00                    2.504010e+09     3674   \n",
       "2022-05-18 04:00:00                    2.504010e+09     3674   \n",
       "2022-05-19 04:00:00                    2.504010e+09     3674   \n",
       "2022-05-20 04:00:00                    2.504010e+09     3674   \n",
       "\n",
       "                                      sic_description  total_employees  \\\n",
       "2022-05-16 04:00:00  SEMICONDUCTORS & RELATED DEVICES          22473.0   \n",
       "2022-05-17 04:00:00  SEMICONDUCTORS & RELATED DEVICES          22473.0   \n",
       "2022-05-18 04:00:00  SEMICONDUCTORS & RELATED DEVICES          22473.0   \n",
       "2022-05-19 04:00:00  SEMICONDUCTORS & RELATED DEVICES          22473.0   \n",
       "2022-05-20 04:00:00  SEMICONDUCTORS & RELATED DEVICES          22473.0   \n",
       "\n",
       "                     weighted_shares_outstanding  \n",
       "2022-05-16 04:00:00                 2.504014e+09  \n",
       "2022-05-17 04:00:00                 2.504014e+09  \n",
       "2022-05-18 04:00:00                 2.504014e+09  \n",
       "2022-05-19 04:00:00                 2.504014e+09  \n",
       "2022-05-20 04:00:00                 2.504014e+09  "
      ]
     },
     "execution_count": 221,
     "metadata": {},
     "output_type": "execute_result"
    }
   ],
   "source": [
    "stock_price_history"
   ]
  },
  {
   "cell_type": "code",
   "execution_count": 281,
   "metadata": {},
   "outputs": [],
   "source": [
    "balance_sheet_key_value = [\n",
    "    'liabilities_and_equity',\n",
    "    'current_assets',\n",
    "    'assets',\n",
    "    'equity_attributable_to_parent',\n",
    "    'fixed_assets',\n",
    "    'noncurrent_liabilities',\n",
    "    'other_than_fixed_noncurrent_assets',\n",
    "    'current_liabilities',\n",
    "    'equity', \n",
    "    'equity_attributable_to_noncontrolling_interest', \n",
    "    'noncurrent_assets',\n",
    "    'liabilities',\n",
    "]\n",
    "\n",
    "cash_flow_key_values = [\n",
    "    'exchange_gains_losses',\n",
    "    'net_cash_flow',\n",
    "    'net_cash_flow_from_financing_activities'\n",
    "]\n",
    "\n",
    "comprehensive_income_info_key_vales = [\n",
    "    'comprehensive_income_loss',\n",
    "    'comprehensive_income_loss_attributable_to_parent',\n",
    "    'other_comprehensive_income_loss'\n",
    "]\n",
    "\n",
    "income_statement_info_key_values = [\n",
    "    'basic_earnings_per_share',\n",
    "    'cost_of_revenue',\n",
    "    'gross_profit',\n",
    "    'operating_expenses',\n",
    "    'revenues',\n",
    "]"
   ]
  },
  {
   "cell_type": "code",
   "execution_count": 284,
   "metadata": {},
   "outputs": [],
   "source": [
    "all_financial_cols = balance_sheet_key_value + cash_flow_key_values + comprehensive_income_info_key_vales + income_statement_info_key_values\n",
    "\n",
    "for col in all_financial_cols:\n",
    "    stock_price_history[col] = np.nan"
   ]
  },
  {
   "cell_type": "code",
   "execution_count": 270,
   "metadata": {},
   "outputs": [],
   "source": [
    "stock_price_history_safe = stock_price_history.copy()"
   ]
  },
  {
   "cell_type": "code",
   "execution_count": 287,
   "metadata": {},
   "outputs": [],
   "source": [
    "for date in stock_price_history.index:\n",
    "    datetime = date.strftime('%Y-%m-%d')\n",
    "    financials = client.vx.list_stock_financials(\"NVDA\", filing_date=datetime)\n",
    "    stock_financials = next(financials, False)\n",
    "    if not stock_financials:\n",
    "        continue\n",
    "\n",
    "    if date.year != getattr(stock_financials, 'fiscal_year'):\n",
    "        continue\n",
    "\n",
    "    col_value = {\n",
    "        'fiscal_period': getattr(stock_financials, 'fiscal_period')\n",
    "    }\n",
    "    \n",
    "    balance_sheet_info = stock_financials.financials.balance_sheet\n",
    "    cash_flow_info = stock_financials.financials.cash_flow_statement\n",
    "    comprehensive_income_info = stock_financials.financials.comprehensive_income\n",
    "    income_statement_info = stock_financials.financials.income_statement\n",
    "    \n",
    "    # balance sheet info\n",
    "    for col in balance_sheet_key_value:\n",
    "        stock_price_history.at[date, col] = balance_sheet_info[col].value\n",
    "\n",
    "    # cash flow info\n",
    "    for col in cash_flow_key_values:\n",
    "        value = getattr(cash_flow_info, col)\n",
    "        to_append = value if value is not None else np.nan\n",
    "        stock_price_history.at[date, col] = to_append\n",
    "    \n",
    "    # comprehensive income\n",
    "    for col in comprehensive_income_info_key_vales:\n",
    "        sub_object = getattr(comprehensive_income_info, col)\n",
    "        value = sub_object.value\n",
    "        to_append = value if value is not None else np.nan\n",
    "        stock_price_history.at[date, col] = to_append\n",
    "\n",
    "    # income statement\n",
    "    for col in income_statement_info_key_values:\n",
    "        sub_object = getattr(income_statement_info, col)\n",
    "        value = sub_object.value\n",
    "        to_append = value if value is not None else np.nan\n",
    "        stock_price_history.at[date, col] = to_append\n",
    "    "
   ]
  },
  {
   "cell_type": "code",
   "execution_count": 288,
   "metadata": {},
   "outputs": [
    {
     "data": {
      "text/html": [
       "<div>\n",
       "<style scoped>\n",
       "    .dataframe tbody tr th:only-of-type {\n",
       "        vertical-align: middle;\n",
       "    }\n",
       "\n",
       "    .dataframe tbody tr th {\n",
       "        vertical-align: top;\n",
       "    }\n",
       "\n",
       "    .dataframe thead th {\n",
       "        text-align: right;\n",
       "    }\n",
       "</style>\n",
       "<table border=\"1\" class=\"dataframe\">\n",
       "  <thead>\n",
       "    <tr style=\"text-align: right;\">\n",
       "      <th></th>\n",
       "      <th>open</th>\n",
       "      <th>high</th>\n",
       "      <th>low</th>\n",
       "      <th>close</th>\n",
       "      <th>volume</th>\n",
       "      <th>vwap</th>\n",
       "      <th>transactions</th>\n",
       "      <th>list_date</th>\n",
       "      <th>market_cap</th>\n",
       "      <th>share_class_shares_outstanding</th>\n",
       "      <th>...</th>\n",
       "      <th>net_cash_flow</th>\n",
       "      <th>net_cash_flow_from_financing_activities</th>\n",
       "      <th>comprehensive_income_loss</th>\n",
       "      <th>comprehensive_income_loss_attributable_to_parent</th>\n",
       "      <th>other_comprehensive_income_loss</th>\n",
       "      <th>basic_earnings_per_share</th>\n",
       "      <th>cost_of_revenue</th>\n",
       "      <th>gross_profit</th>\n",
       "      <th>operating_expenses</th>\n",
       "      <th>revenues</th>\n",
       "    </tr>\n",
       "  </thead>\n",
       "  <tbody>\n",
       "    <tr>\n",
       "      <th>2022-05-16 04:00:00</th>\n",
       "      <td>175.09</td>\n",
       "      <td>177.88</td>\n",
       "      <td>171.0600</td>\n",
       "      <td>172.64</td>\n",
       "      <td>52144598.0</td>\n",
       "      <td>174.4490</td>\n",
       "      <td>483480</td>\n",
       "      <td>1999-01-22</td>\n",
       "      <td>4.044985e+11</td>\n",
       "      <td>2.504010e+09</td>\n",
       "      <td>...</td>\n",
       "      <td>NaN</td>\n",
       "      <td>NaN</td>\n",
       "      <td>NaN</td>\n",
       "      <td>NaN</td>\n",
       "      <td>NaN</td>\n",
       "      <td>NaN</td>\n",
       "      <td>NaN</td>\n",
       "      <td>NaN</td>\n",
       "      <td>NaN</td>\n",
       "      <td>NaN</td>\n",
       "    </tr>\n",
       "    <tr>\n",
       "      <th>2022-05-17 04:00:00</th>\n",
       "      <td>180.74</td>\n",
       "      <td>183.71</td>\n",
       "      <td>176.3400</td>\n",
       "      <td>181.77</td>\n",
       "      <td>58582971.0</td>\n",
       "      <td>180.0808</td>\n",
       "      <td>563506</td>\n",
       "      <td>1999-01-22</td>\n",
       "      <td>4.044985e+11</td>\n",
       "      <td>2.504010e+09</td>\n",
       "      <td>...</td>\n",
       "      <td>NaN</td>\n",
       "      <td>NaN</td>\n",
       "      <td>NaN</td>\n",
       "      <td>NaN</td>\n",
       "      <td>NaN</td>\n",
       "      <td>NaN</td>\n",
       "      <td>NaN</td>\n",
       "      <td>NaN</td>\n",
       "      <td>NaN</td>\n",
       "      <td>NaN</td>\n",
       "    </tr>\n",
       "    <tr>\n",
       "      <th>2022-05-18 04:00:00</th>\n",
       "      <td>177.05</td>\n",
       "      <td>181.18</td>\n",
       "      <td>168.6400</td>\n",
       "      <td>169.38</td>\n",
       "      <td>54516106.0</td>\n",
       "      <td>173.6590</td>\n",
       "      <td>536759</td>\n",
       "      <td>1999-01-22</td>\n",
       "      <td>4.044985e+11</td>\n",
       "      <td>2.504010e+09</td>\n",
       "      <td>...</td>\n",
       "      <td>NaN</td>\n",
       "      <td>NaN</td>\n",
       "      <td>NaN</td>\n",
       "      <td>NaN</td>\n",
       "      <td>NaN</td>\n",
       "      <td>NaN</td>\n",
       "      <td>NaN</td>\n",
       "      <td>NaN</td>\n",
       "      <td>NaN</td>\n",
       "      <td>NaN</td>\n",
       "    </tr>\n",
       "    <tr>\n",
       "      <th>2022-05-19 04:00:00</th>\n",
       "      <td>169.37</td>\n",
       "      <td>176.87</td>\n",
       "      <td>167.3405</td>\n",
       "      <td>171.24</td>\n",
       "      <td>62130959.0</td>\n",
       "      <td>172.7810</td>\n",
       "      <td>549159</td>\n",
       "      <td>1999-01-22</td>\n",
       "      <td>4.044985e+11</td>\n",
       "      <td>2.504010e+09</td>\n",
       "      <td>...</td>\n",
       "      <td>NaN</td>\n",
       "      <td>NaN</td>\n",
       "      <td>NaN</td>\n",
       "      <td>NaN</td>\n",
       "      <td>NaN</td>\n",
       "      <td>NaN</td>\n",
       "      <td>NaN</td>\n",
       "      <td>NaN</td>\n",
       "      <td>NaN</td>\n",
       "      <td>NaN</td>\n",
       "    </tr>\n",
       "    <tr>\n",
       "      <th>2022-05-20 04:00:00</th>\n",
       "      <td>173.32</td>\n",
       "      <td>174.10</td>\n",
       "      <td>157.5500</td>\n",
       "      <td>166.94</td>\n",
       "      <td>73910526.0</td>\n",
       "      <td>163.8915</td>\n",
       "      <td>722854</td>\n",
       "      <td>1999-01-22</td>\n",
       "      <td>4.044985e+11</td>\n",
       "      <td>2.504010e+09</td>\n",
       "      <td>...</td>\n",
       "      <td>NaN</td>\n",
       "      <td>NaN</td>\n",
       "      <td>NaN</td>\n",
       "      <td>NaN</td>\n",
       "      <td>NaN</td>\n",
       "      <td>NaN</td>\n",
       "      <td>NaN</td>\n",
       "      <td>NaN</td>\n",
       "      <td>NaN</td>\n",
       "      <td>NaN</td>\n",
       "    </tr>\n",
       "  </tbody>\n",
       "</table>\n",
       "<p>5 rows × 37 columns</p>\n",
       "</div>"
      ],
      "text/plain": [
       "                       open    high       low   close      volume      vwap  \\\n",
       "2022-05-16 04:00:00  175.09  177.88  171.0600  172.64  52144598.0  174.4490   \n",
       "2022-05-17 04:00:00  180.74  183.71  176.3400  181.77  58582971.0  180.0808   \n",
       "2022-05-18 04:00:00  177.05  181.18  168.6400  169.38  54516106.0  173.6590   \n",
       "2022-05-19 04:00:00  169.37  176.87  167.3405  171.24  62130959.0  172.7810   \n",
       "2022-05-20 04:00:00  173.32  174.10  157.5500  166.94  73910526.0  163.8915   \n",
       "\n",
       "                     transactions   list_date    market_cap  \\\n",
       "2022-05-16 04:00:00        483480  1999-01-22  4.044985e+11   \n",
       "2022-05-17 04:00:00        563506  1999-01-22  4.044985e+11   \n",
       "2022-05-18 04:00:00        536759  1999-01-22  4.044985e+11   \n",
       "2022-05-19 04:00:00        549159  1999-01-22  4.044985e+11   \n",
       "2022-05-20 04:00:00        722854  1999-01-22  4.044985e+11   \n",
       "\n",
       "                     share_class_shares_outstanding  ... net_cash_flow  \\\n",
       "2022-05-16 04:00:00                    2.504010e+09  ...           NaN   \n",
       "2022-05-17 04:00:00                    2.504010e+09  ...           NaN   \n",
       "2022-05-18 04:00:00                    2.504010e+09  ...           NaN   \n",
       "2022-05-19 04:00:00                    2.504010e+09  ...           NaN   \n",
       "2022-05-20 04:00:00                    2.504010e+09  ...           NaN   \n",
       "\n",
       "                    net_cash_flow_from_financing_activities  \\\n",
       "2022-05-16 04:00:00                                     NaN   \n",
       "2022-05-17 04:00:00                                     NaN   \n",
       "2022-05-18 04:00:00                                     NaN   \n",
       "2022-05-19 04:00:00                                     NaN   \n",
       "2022-05-20 04:00:00                                     NaN   \n",
       "\n",
       "                     comprehensive_income_loss  \\\n",
       "2022-05-16 04:00:00                        NaN   \n",
       "2022-05-17 04:00:00                        NaN   \n",
       "2022-05-18 04:00:00                        NaN   \n",
       "2022-05-19 04:00:00                        NaN   \n",
       "2022-05-20 04:00:00                        NaN   \n",
       "\n",
       "                     comprehensive_income_loss_attributable_to_parent  \\\n",
       "2022-05-16 04:00:00                                               NaN   \n",
       "2022-05-17 04:00:00                                               NaN   \n",
       "2022-05-18 04:00:00                                               NaN   \n",
       "2022-05-19 04:00:00                                               NaN   \n",
       "2022-05-20 04:00:00                                               NaN   \n",
       "\n",
       "                     other_comprehensive_income_loss  \\\n",
       "2022-05-16 04:00:00                              NaN   \n",
       "2022-05-17 04:00:00                              NaN   \n",
       "2022-05-18 04:00:00                              NaN   \n",
       "2022-05-19 04:00:00                              NaN   \n",
       "2022-05-20 04:00:00                              NaN   \n",
       "\n",
       "                     basic_earnings_per_share  cost_of_revenue  gross_profit  \\\n",
       "2022-05-16 04:00:00                       NaN              NaN           NaN   \n",
       "2022-05-17 04:00:00                       NaN              NaN           NaN   \n",
       "2022-05-18 04:00:00                       NaN              NaN           NaN   \n",
       "2022-05-19 04:00:00                       NaN              NaN           NaN   \n",
       "2022-05-20 04:00:00                       NaN              NaN           NaN   \n",
       "\n",
       "                     operating_expenses  revenues  \n",
       "2022-05-16 04:00:00                 NaN       NaN  \n",
       "2022-05-17 04:00:00                 NaN       NaN  \n",
       "2022-05-18 04:00:00                 NaN       NaN  \n",
       "2022-05-19 04:00:00                 NaN       NaN  \n",
       "2022-05-20 04:00:00                 NaN       NaN  \n",
       "\n",
       "[5 rows x 37 columns]"
      ]
     },
     "execution_count": 288,
     "metadata": {},
     "output_type": "execute_result"
    }
   ],
   "source": [
    "stock_price_history"
   ]
  },
  {
   "cell_type": "code",
   "execution_count": null,
   "metadata": {},
   "outputs": [],
   "source": [
    "# # Don't know how to make use of splits in the dataset\n",
    "# splits = client.list_splits(\"NVDA\")\n",
    "# splits_data = [split for split in splits]\n",
    "\n",
    "# # Don't know how to make use of dividends in the dataset\n",
    "# dividends = client.list_dividends(\"NVDA\")\n",
    "# dividends_data = [dividend for dividend in dividends]"
   ]
  },
  {
   "cell_type": "markdown",
   "metadata": {},
   "source": [
    "### Get Ticker Natural Language Dataset"
   ]
  },
  {
   "cell_type": "code",
   "execution_count": 182,
   "metadata": {},
   "outputs": [],
   "source": [
    "stock_price_history[\"news\"] = \"\""
   ]
  },
  {
   "cell_type": "code",
   "execution_count": 188,
   "metadata": {},
   "outputs": [
    {
     "name": "stdout",
     "output_type": "stream",
     "text": [
      "2022-05-16 04:00:00\n"
     ]
    },
    {
     "ename": "Exception",
     "evalue": "{\"status\":\"ERROR\",\"request_id\":\"01104b7bb631292b3a5d6e76a17ba759\",\"error\":\"You've exceeded the maximum requests per minute, please wait or upgrade your subscription to continue. https://polygon.io/pricing\"}",
     "output_type": "error",
     "traceback": [
      "\u001b[1;31m---------------------------------------------------------------------------\u001b[0m",
      "\u001b[1;31mException\u001b[0m                                 Traceback (most recent call last)",
      "\u001b[1;32mc:\\Users\\Pedro\\Desktop\\equities-trader-bot\\examples\\getting_started.ipynb Cell 22'\u001b[0m in \u001b[0;36m<cell line: 1>\u001b[1;34m()\u001b[0m\n\u001b[0;32m      <a href='vscode-notebook-cell:/c%3A/Users/Pedro/Desktop/equities-trader-bot/examples/getting_started.ipynb#ch0000118?line=3'>4</a>\u001b[0m stock_news \u001b[39m=\u001b[39m client\u001b[39m.\u001b[39mlist_ticker_news(\u001b[39m\"\u001b[39m\u001b[39mNVDA\u001b[39m\u001b[39m\"\u001b[39m, published_utc\u001b[39m=\u001b[39mdatetime, limit\u001b[39m=\u001b[39m\u001b[39m1\u001b[39m)\n\u001b[0;32m      <a href='vscode-notebook-cell:/c%3A/Users/Pedro/Desktop/equities-trader-bot/examples/getting_started.ipynb#ch0000118?line=4'>5</a>\u001b[0m \u001b[39mprint\u001b[39m(date)\n\u001b[1;32m----> <a href='vscode-notebook-cell:/c%3A/Users/Pedro/Desktop/equities-trader-bot/examples/getting_started.ipynb#ch0000118?line=5'>6</a>\u001b[0m \u001b[39mfor\u001b[39;00m n \u001b[39min\u001b[39;00m stock_news:\n\u001b[0;32m      <a href='vscode-notebook-cell:/c%3A/Users/Pedro/Desktop/equities-trader-bot/examples/getting_started.ipynb#ch0000118?line=6'>7</a>\u001b[0m     all_news_on_date \u001b[39m=\u001b[39m all_news_on_date \u001b[39m+\u001b[39m \u001b[39m\"\u001b[39m\u001b[39m \u001b[39m\u001b[39m\"\u001b[39m \u001b[39m+\u001b[39m n\u001b[39m.\u001b[39mtitle \u001b[39m+\u001b[39m \u001b[39m\"\u001b[39m\u001b[39m \u001b[39m\u001b[39m\"\u001b[39m \u001b[39m+\u001b[39m n\u001b[39m.\u001b[39mdescription\n\u001b[0;32m      <a href='vscode-notebook-cell:/c%3A/Users/Pedro/Desktop/equities-trader-bot/examples/getting_started.ipynb#ch0000118?line=8'>9</a>\u001b[0m stock_price_history\u001b[39m.\u001b[39mat[date, \u001b[39m\"\u001b[39m\u001b[39mnews\u001b[39m\u001b[39m\"\u001b[39m] \u001b[39m=\u001b[39m all_news_on_date\n",
      "File \u001b[1;32m~\\Anaconda3\\envs\\pedrino\\lib\\site-packages\\polygon\\rest\\base.py:154\u001b[0m, in \u001b[0;36mBaseClient._paginate_iter\u001b[1;34m(self, path, params, deserializer, result_key)\u001b[0m\n\u001b[0;32m    <a href='file:///c%3A/Users/Pedro/Anaconda3/envs/pedrino/lib/site-packages/polygon/rest/base.py?line=145'>146</a>\u001b[0m \u001b[39mdef\u001b[39;00m \u001b[39m_paginate_iter\u001b[39m(\n\u001b[0;32m    <a href='file:///c%3A/Users/Pedro/Anaconda3/envs/pedrino/lib/site-packages/polygon/rest/base.py?line=146'>147</a>\u001b[0m     \u001b[39mself\u001b[39m,\n\u001b[0;32m    <a href='file:///c%3A/Users/Pedro/Anaconda3/envs/pedrino/lib/site-packages/polygon/rest/base.py?line=147'>148</a>\u001b[0m     path: \u001b[39mstr\u001b[39m,\n\u001b[1;32m   (...)\u001b[0m\n\u001b[0;32m    <a href='file:///c%3A/Users/Pedro/Anaconda3/envs/pedrino/lib/site-packages/polygon/rest/base.py?line=150'>151</a>\u001b[0m     result_key: \u001b[39mstr\u001b[39m \u001b[39m=\u001b[39m \u001b[39m\"\u001b[39m\u001b[39mresults\u001b[39m\u001b[39m\"\u001b[39m,\n\u001b[0;32m    <a href='file:///c%3A/Users/Pedro/Anaconda3/envs/pedrino/lib/site-packages/polygon/rest/base.py?line=151'>152</a>\u001b[0m ):\n\u001b[0;32m    <a href='file:///c%3A/Users/Pedro/Anaconda3/envs/pedrino/lib/site-packages/polygon/rest/base.py?line=152'>153</a>\u001b[0m     \u001b[39mwhile\u001b[39;00m \u001b[39mTrue\u001b[39;00m:\n\u001b[1;32m--> <a href='file:///c%3A/Users/Pedro/Anaconda3/envs/pedrino/lib/site-packages/polygon/rest/base.py?line=153'>154</a>\u001b[0m         resp \u001b[39m=\u001b[39m \u001b[39mself\u001b[39;49m\u001b[39m.\u001b[39;49m_get(\n\u001b[0;32m    <a href='file:///c%3A/Users/Pedro/Anaconda3/envs/pedrino/lib/site-packages/polygon/rest/base.py?line=154'>155</a>\u001b[0m             path\u001b[39m=\u001b[39;49mpath,\n\u001b[0;32m    <a href='file:///c%3A/Users/Pedro/Anaconda3/envs/pedrino/lib/site-packages/polygon/rest/base.py?line=155'>156</a>\u001b[0m             params\u001b[39m=\u001b[39;49mparams,\n\u001b[0;32m    <a href='file:///c%3A/Users/Pedro/Anaconda3/envs/pedrino/lib/site-packages/polygon/rest/base.py?line=156'>157</a>\u001b[0m             deserializer\u001b[39m=\u001b[39;49mdeserializer,\n\u001b[0;32m    <a href='file:///c%3A/Users/Pedro/Anaconda3/envs/pedrino/lib/site-packages/polygon/rest/base.py?line=157'>158</a>\u001b[0m             result_key\u001b[39m=\u001b[39;49mresult_key,\n\u001b[0;32m    <a href='file:///c%3A/Users/Pedro/Anaconda3/envs/pedrino/lib/site-packages/polygon/rest/base.py?line=158'>159</a>\u001b[0m             raw\u001b[39m=\u001b[39;49m\u001b[39mTrue\u001b[39;49;00m,\n\u001b[0;32m    <a href='file:///c%3A/Users/Pedro/Anaconda3/envs/pedrino/lib/site-packages/polygon/rest/base.py?line=159'>160</a>\u001b[0m         )\n\u001b[0;32m    <a href='file:///c%3A/Users/Pedro/Anaconda3/envs/pedrino/lib/site-packages/polygon/rest/base.py?line=160'>161</a>\u001b[0m         decoded \u001b[39m=\u001b[39m \u001b[39mself\u001b[39m\u001b[39m.\u001b[39m_decode(resp)\n\u001b[0;32m    <a href='file:///c%3A/Users/Pedro/Anaconda3/envs/pedrino/lib/site-packages/polygon/rest/base.py?line=161'>162</a>\u001b[0m         \u001b[39mfor\u001b[39;00m t \u001b[39min\u001b[39;00m decoded[result_key]:\n",
      "File \u001b[1;32m~\\Anaconda3\\envs\\pedrino\\lib\\site-packages\\polygon\\rest\\base.py:81\u001b[0m, in \u001b[0;36mBaseClient._get\u001b[1;34m(self, path, params, result_key, deserializer, raw)\u001b[0m\n\u001b[0;32m     <a href='file:///c%3A/Users/Pedro/Anaconda3/envs/pedrino/lib/site-packages/polygon/rest/base.py?line=72'>73</a>\u001b[0m resp \u001b[39m=\u001b[39m \u001b[39mself\u001b[39m\u001b[39m.\u001b[39mclient\u001b[39m.\u001b[39mrequest(\n\u001b[0;32m     <a href='file:///c%3A/Users/Pedro/Anaconda3/envs/pedrino/lib/site-packages/polygon/rest/base.py?line=73'>74</a>\u001b[0m     \u001b[39m\"\u001b[39m\u001b[39mGET\u001b[39m\u001b[39m\"\u001b[39m,\n\u001b[0;32m     <a href='file:///c%3A/Users/Pedro/Anaconda3/envs/pedrino/lib/site-packages/polygon/rest/base.py?line=74'>75</a>\u001b[0m     \u001b[39mself\u001b[39m\u001b[39m.\u001b[39mBASE \u001b[39m+\u001b[39m path,\n\u001b[0;32m     <a href='file:///c%3A/Users/Pedro/Anaconda3/envs/pedrino/lib/site-packages/polygon/rest/base.py?line=75'>76</a>\u001b[0m     fields\u001b[39m=\u001b[39mparams,\n\u001b[0;32m     <a href='file:///c%3A/Users/Pedro/Anaconda3/envs/pedrino/lib/site-packages/polygon/rest/base.py?line=76'>77</a>\u001b[0m     retries\u001b[39m=\u001b[39m\u001b[39mself\u001b[39m\u001b[39m.\u001b[39mretries,\n\u001b[0;32m     <a href='file:///c%3A/Users/Pedro/Anaconda3/envs/pedrino/lib/site-packages/polygon/rest/base.py?line=77'>78</a>\u001b[0m )\n\u001b[0;32m     <a href='file:///c%3A/Users/Pedro/Anaconda3/envs/pedrino/lib/site-packages/polygon/rest/base.py?line=79'>80</a>\u001b[0m \u001b[39mif\u001b[39;00m resp\u001b[39m.\u001b[39mstatus \u001b[39m!=\u001b[39m \u001b[39m200\u001b[39m:\n\u001b[1;32m---> <a href='file:///c%3A/Users/Pedro/Anaconda3/envs/pedrino/lib/site-packages/polygon/rest/base.py?line=80'>81</a>\u001b[0m     \u001b[39mraise\u001b[39;00m \u001b[39mException\u001b[39;00m(resp\u001b[39m.\u001b[39mdata\u001b[39m.\u001b[39mdecode(\u001b[39m\"\u001b[39m\u001b[39mutf-8\u001b[39m\u001b[39m\"\u001b[39m))\n\u001b[0;32m     <a href='file:///c%3A/Users/Pedro/Anaconda3/envs/pedrino/lib/site-packages/polygon/rest/base.py?line=82'>83</a>\u001b[0m \u001b[39mif\u001b[39;00m raw:\n\u001b[0;32m     <a href='file:///c%3A/Users/Pedro/Anaconda3/envs/pedrino/lib/site-packages/polygon/rest/base.py?line=83'>84</a>\u001b[0m     \u001b[39mreturn\u001b[39;00m resp\n",
      "\u001b[1;31mException\u001b[0m: {\"status\":\"ERROR\",\"request_id\":\"01104b7bb631292b3a5d6e76a17ba759\",\"error\":\"You've exceeded the maximum requests per minute, please wait or upgrade your subscription to continue. https://polygon.io/pricing\"}"
     ]
    }
   ],
   "source": [
    "for date in stock_price_history.index:\n",
    "    datetime = date.strftime('%Y-%m-%d')\n",
    "    all_news_on_date = \"\"\n",
    "    stock_news = client.list_ticker_news(\"NVDA\", published_utc=datetime, limit=1)\n",
    "    for n in stock_news:\n",
    "        all_news_on_date = all_news_on_date + \" \" + n.title + \" \" + n.description\n",
    "\n",
    "    stock_price_history.at[date, \"news\"] = all_news_on_date"
   ]
  },
  {
   "cell_type": "markdown",
   "metadata": {},
   "source": [
    "### Get Trades"
   ]
  },
  {
   "cell_type": "code",
   "execution_count": 9,
   "metadata": {},
   "outputs": [
    {
     "ename": "Exception",
     "evalue": "{\"status\":\"NOT_AUTHORIZED\",\"request_id\":\"98eee780af6f09d6bb88fbdc8ed46674\",\"message\":\"You are not entitled to this data. Please upgrade your plan at https://polygon.io/pricing\"}",
     "output_type": "error",
     "traceback": [
      "\u001b[1;31m---------------------------------------------------------------------------\u001b[0m",
      "\u001b[1;31mException\u001b[0m                                 Traceback (most recent call last)",
      "\u001b[1;32mc:\\Users\\Pedro\\Desktop\\equities-trader-bot\\examples\\getting_started.ipynb Cell 7'\u001b[0m in \u001b[0;36m<cell line: 2>\u001b[1;34m()\u001b[0m\n\u001b[0;32m      <a href='vscode-notebook-cell:/c%3A/Users/Pedro/Desktop/equities-trader-bot/examples/getting_started.ipynb#ch0000012?line=0'>1</a>\u001b[0m trades \u001b[39m=\u001b[39m []\n\u001b[1;32m----> <a href='vscode-notebook-cell:/c%3A/Users/Pedro/Desktop/equities-trader-bot/examples/getting_started.ipynb#ch0000012?line=1'>2</a>\u001b[0m \u001b[39mfor\u001b[39;00m t \u001b[39min\u001b[39;00m client\u001b[39m.\u001b[39mlist_trades(\u001b[39m\"\u001b[39m\u001b[39mNVDA\u001b[39m\u001b[39m\"\u001b[39m, \u001b[39m\"\u001b[39m\u001b[39m2022-05-20\u001b[39m\u001b[39m\"\u001b[39m, limit\u001b[39m=\u001b[39m\u001b[39m5\u001b[39m):\n\u001b[0;32m      <a href='vscode-notebook-cell:/c%3A/Users/Pedro/Desktop/equities-trader-bot/examples/getting_started.ipynb#ch0000012?line=2'>3</a>\u001b[0m     trades\u001b[39m.\u001b[39mappend(t)\n",
      "File \u001b[1;32m~\\Anaconda3\\envs\\pedrino\\lib\\site-packages\\polygon\\rest\\base.py:154\u001b[0m, in \u001b[0;36mBaseClient._paginate_iter\u001b[1;34m(self, path, params, deserializer, result_key)\u001b[0m\n\u001b[0;32m    <a href='file:///c%3A/Users/Pedro/Anaconda3/envs/pedrino/lib/site-packages/polygon/rest/base.py?line=145'>146</a>\u001b[0m \u001b[39mdef\u001b[39;00m \u001b[39m_paginate_iter\u001b[39m(\n\u001b[0;32m    <a href='file:///c%3A/Users/Pedro/Anaconda3/envs/pedrino/lib/site-packages/polygon/rest/base.py?line=146'>147</a>\u001b[0m     \u001b[39mself\u001b[39m,\n\u001b[0;32m    <a href='file:///c%3A/Users/Pedro/Anaconda3/envs/pedrino/lib/site-packages/polygon/rest/base.py?line=147'>148</a>\u001b[0m     path: \u001b[39mstr\u001b[39m,\n\u001b[1;32m   (...)\u001b[0m\n\u001b[0;32m    <a href='file:///c%3A/Users/Pedro/Anaconda3/envs/pedrino/lib/site-packages/polygon/rest/base.py?line=150'>151</a>\u001b[0m     result_key: \u001b[39mstr\u001b[39m \u001b[39m=\u001b[39m \u001b[39m\"\u001b[39m\u001b[39mresults\u001b[39m\u001b[39m\"\u001b[39m,\n\u001b[0;32m    <a href='file:///c%3A/Users/Pedro/Anaconda3/envs/pedrino/lib/site-packages/polygon/rest/base.py?line=151'>152</a>\u001b[0m ):\n\u001b[0;32m    <a href='file:///c%3A/Users/Pedro/Anaconda3/envs/pedrino/lib/site-packages/polygon/rest/base.py?line=152'>153</a>\u001b[0m     \u001b[39mwhile\u001b[39;00m \u001b[39mTrue\u001b[39;00m:\n\u001b[1;32m--> <a href='file:///c%3A/Users/Pedro/Anaconda3/envs/pedrino/lib/site-packages/polygon/rest/base.py?line=153'>154</a>\u001b[0m         resp \u001b[39m=\u001b[39m \u001b[39mself\u001b[39;49m\u001b[39m.\u001b[39;49m_get(\n\u001b[0;32m    <a href='file:///c%3A/Users/Pedro/Anaconda3/envs/pedrino/lib/site-packages/polygon/rest/base.py?line=154'>155</a>\u001b[0m             path\u001b[39m=\u001b[39;49mpath,\n\u001b[0;32m    <a href='file:///c%3A/Users/Pedro/Anaconda3/envs/pedrino/lib/site-packages/polygon/rest/base.py?line=155'>156</a>\u001b[0m             params\u001b[39m=\u001b[39;49mparams,\n\u001b[0;32m    <a href='file:///c%3A/Users/Pedro/Anaconda3/envs/pedrino/lib/site-packages/polygon/rest/base.py?line=156'>157</a>\u001b[0m             deserializer\u001b[39m=\u001b[39;49mdeserializer,\n\u001b[0;32m    <a href='file:///c%3A/Users/Pedro/Anaconda3/envs/pedrino/lib/site-packages/polygon/rest/base.py?line=157'>158</a>\u001b[0m             result_key\u001b[39m=\u001b[39;49mresult_key,\n\u001b[0;32m    <a href='file:///c%3A/Users/Pedro/Anaconda3/envs/pedrino/lib/site-packages/polygon/rest/base.py?line=158'>159</a>\u001b[0m             raw\u001b[39m=\u001b[39;49m\u001b[39mTrue\u001b[39;49;00m,\n\u001b[0;32m    <a href='file:///c%3A/Users/Pedro/Anaconda3/envs/pedrino/lib/site-packages/polygon/rest/base.py?line=159'>160</a>\u001b[0m         )\n\u001b[0;32m    <a href='file:///c%3A/Users/Pedro/Anaconda3/envs/pedrino/lib/site-packages/polygon/rest/base.py?line=160'>161</a>\u001b[0m         decoded \u001b[39m=\u001b[39m \u001b[39mself\u001b[39m\u001b[39m.\u001b[39m_decode(resp)\n\u001b[0;32m    <a href='file:///c%3A/Users/Pedro/Anaconda3/envs/pedrino/lib/site-packages/polygon/rest/base.py?line=161'>162</a>\u001b[0m         \u001b[39mfor\u001b[39;00m t \u001b[39min\u001b[39;00m decoded[result_key]:\n",
      "File \u001b[1;32m~\\Anaconda3\\envs\\pedrino\\lib\\site-packages\\polygon\\rest\\base.py:81\u001b[0m, in \u001b[0;36mBaseClient._get\u001b[1;34m(self, path, params, result_key, deserializer, raw)\u001b[0m\n\u001b[0;32m     <a href='file:///c%3A/Users/Pedro/Anaconda3/envs/pedrino/lib/site-packages/polygon/rest/base.py?line=72'>73</a>\u001b[0m resp \u001b[39m=\u001b[39m \u001b[39mself\u001b[39m\u001b[39m.\u001b[39mclient\u001b[39m.\u001b[39mrequest(\n\u001b[0;32m     <a href='file:///c%3A/Users/Pedro/Anaconda3/envs/pedrino/lib/site-packages/polygon/rest/base.py?line=73'>74</a>\u001b[0m     \u001b[39m\"\u001b[39m\u001b[39mGET\u001b[39m\u001b[39m\"\u001b[39m,\n\u001b[0;32m     <a href='file:///c%3A/Users/Pedro/Anaconda3/envs/pedrino/lib/site-packages/polygon/rest/base.py?line=74'>75</a>\u001b[0m     \u001b[39mself\u001b[39m\u001b[39m.\u001b[39mBASE \u001b[39m+\u001b[39m path,\n\u001b[0;32m     <a href='file:///c%3A/Users/Pedro/Anaconda3/envs/pedrino/lib/site-packages/polygon/rest/base.py?line=75'>76</a>\u001b[0m     fields\u001b[39m=\u001b[39mparams,\n\u001b[0;32m     <a href='file:///c%3A/Users/Pedro/Anaconda3/envs/pedrino/lib/site-packages/polygon/rest/base.py?line=76'>77</a>\u001b[0m     retries\u001b[39m=\u001b[39m\u001b[39mself\u001b[39m\u001b[39m.\u001b[39mretries,\n\u001b[0;32m     <a href='file:///c%3A/Users/Pedro/Anaconda3/envs/pedrino/lib/site-packages/polygon/rest/base.py?line=77'>78</a>\u001b[0m )\n\u001b[0;32m     <a href='file:///c%3A/Users/Pedro/Anaconda3/envs/pedrino/lib/site-packages/polygon/rest/base.py?line=79'>80</a>\u001b[0m \u001b[39mif\u001b[39;00m resp\u001b[39m.\u001b[39mstatus \u001b[39m!=\u001b[39m \u001b[39m200\u001b[39m:\n\u001b[1;32m---> <a href='file:///c%3A/Users/Pedro/Anaconda3/envs/pedrino/lib/site-packages/polygon/rest/base.py?line=80'>81</a>\u001b[0m     \u001b[39mraise\u001b[39;00m \u001b[39mException\u001b[39;00m(resp\u001b[39m.\u001b[39mdata\u001b[39m.\u001b[39mdecode(\u001b[39m\"\u001b[39m\u001b[39mutf-8\u001b[39m\u001b[39m\"\u001b[39m))\n\u001b[0;32m     <a href='file:///c%3A/Users/Pedro/Anaconda3/envs/pedrino/lib/site-packages/polygon/rest/base.py?line=82'>83</a>\u001b[0m \u001b[39mif\u001b[39;00m raw:\n\u001b[0;32m     <a href='file:///c%3A/Users/Pedro/Anaconda3/envs/pedrino/lib/site-packages/polygon/rest/base.py?line=83'>84</a>\u001b[0m     \u001b[39mreturn\u001b[39;00m resp\n",
      "\u001b[1;31mException\u001b[0m: {\"status\":\"NOT_AUTHORIZED\",\"request_id\":\"98eee780af6f09d6bb88fbdc8ed46674\",\"message\":\"You are not entitled to this data. Please upgrade your plan at https://polygon.io/pricing\"}"
     ]
    }
   ],
   "source": [
    "trades = []\n",
    "for t in client.list_trades(\"NVDA\", \"2022-05-20\", limit=5):\n",
    "    trades.append(t)"
   ]
  },
  {
   "cell_type": "code",
   "execution_count": null,
   "metadata": {},
   "outputs": [],
   "source": []
  }
 ],
 "metadata": {
  "interpreter": {
   "hash": "229b0cce2d0053d6c0caec0c1437d65c4a6c9767ea00a6930b1db2fc951615fc"
  },
  "kernelspec": {
   "display_name": "Python 3.9.12 ('pedrino')",
   "language": "python",
   "name": "python3"
  },
  "language_info": {
   "codemirror_mode": {
    "name": "ipython",
    "version": 3
   },
   "file_extension": ".py",
   "mimetype": "text/x-python",
   "name": "python",
   "nbconvert_exporter": "python",
   "pygments_lexer": "ipython3",
   "version": "3.9.12"
  },
  "orig_nbformat": 4
 },
 "nbformat": 4,
 "nbformat_minor": 2
}
